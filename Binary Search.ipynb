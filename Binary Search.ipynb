{
 "cells": [
  {
   "cell_type": "code",
   "execution_count": null,
   "metadata": {},
   "outputs": [],
   "source": []
  },
  {
   "cell_type": "code",
   "execution_count": 57,
   "metadata": {},
   "outputs": [],
   "source": [
    "case0 = {\"test\": {\"array\":[0,1,2,3,4,5], \"value\":1},\n",
    "             \"result\":1}\n",
    "\n",
    "case1 = {\"test\": {\"array\":[0,0,0,0,5], \"value\":5},\n",
    "             \"result\":4}\n",
    "\n",
    "case2 = {\"test\": {\"array\":[], \"value\":1},\n",
    "             \"result\":-1}\n",
    "\n",
    "case3 = {\"test\": {\"array\":[10,11,12,13], \"value\":1},\n",
    "             \"result\":-1}\n",
    "\n",
    "case4 = {\"test\": {\"array\":[10,11,12,13,14,15], \"value\":11},\n",
    "             \"result\":1}\n",
    "\n",
    "case5 = {\"test\": {\"array\":[10,11,12,13,14,15], \"value\":14},\n",
    "             \"result\":4}\n",
    "\n",
    "\n",
    "#case where there are duplicates\n",
    "case6 = {\"test\": {\"array\":[0,0,0,0,0,1,1,1,1,4,4,4,5,5,5,6,6,6], \"value\":1},\n",
    "             \"result\":5}\n",
    "\n",
    "#case where there are duplicates\n",
    "case7 = {\"test\": {\"array\":[0,0,0,0,0,1,1,1,1,4,4,4,5,5,5,6,6,6], \"value\":4},\n",
    "             \"result\":9}\n",
    "\n",
    "#case where there are duplicates\n",
    "case8 = {\"test\": {\"array\":[0,0,0,0,0,1,1,1,1,4,4,4,5,5,5,6,6,6], \"value\":0},\n",
    "             \"result\":0}\n",
    "\n",
    "\n",
    "test_case_ALL = [case0,case1,case2,case3,case4,case5,case6,case7,case8]\n"
   ]
  },
  {
   "cell_type": "code",
   "execution_count": 58,
   "metadata": {},
   "outputs": [],
   "source": [
    "##brute force search\n",
    "\n",
    "def brute_force(array, val):\n",
    "    for iter,i in enumerate(array):\n",
    "        if val == i:\n",
    "            return iter\n",
    "    return -1"
   ]
  },
  {
   "cell_type": "code",
   "execution_count": 59,
   "metadata": {},
   "outputs": [
    {
     "name": "stdout",
     "output_type": "stream",
     "text": [
      "True\n",
      "True\n",
      "True\n",
      "True\n",
      "True\n",
      "True\n",
      "True\n",
      "True\n",
      "True\n"
     ]
    }
   ],
   "source": [
    "for case in test_case_ALL:\n",
    "    print(brute_force(case[\"test\"][\"array\"], case[\"test\"][\"value\"]) == case[\"result\"])"
   ]
  },
  {
   "cell_type": "code",
   "execution_count": 60,
   "metadata": {},
   "outputs": [],
   "source": [
    "def binary_search(array,val):\n",
    "    left = 0\n",
    "    right = len(array)-1\n",
    "    \n",
    "    while left <= right:\n",
    "        \n",
    "        mid = int((left + right)/2)\n",
    "        \n",
    "        if array[mid]<val:\n",
    "            #look to the right\n",
    "            left = mid +1\n",
    "        elif array[mid]>val:\n",
    "            right = mid -1\n",
    "        elif array[mid] == val:\n",
    "            return mid\n",
    "        \n",
    "        else:\n",
    "            print(\"i don't think it should enter here\")\n",
    "    \n",
    "    return -1"
   ]
  },
  {
   "cell_type": "code",
   "execution_count": 61,
   "metadata": {},
   "outputs": [
    {
     "name": "stdout",
     "output_type": "stream",
     "text": [
      "True\n",
      "True\n",
      "True\n",
      "True\n",
      "True\n",
      "True\n",
      "False\n",
      "False\n",
      "False\n"
     ]
    }
   ],
   "source": [
    "for case in test_case_ALL:\n",
    "    print(binary_search(case[\"test\"][\"array\"], case[\"test\"][\"value\"]) == case[\"result\"])"
   ]
  },
  {
   "cell_type": "code",
   "execution_count": 62,
   "metadata": {},
   "outputs": [],
   "source": [
    "def FULL_binary_search(array,val):\n",
    "    left = 0\n",
    "    right = len(array)-1\n",
    "    \n",
    "    while left <= right:\n",
    "        \n",
    "        mid = int((left + right)/2)\n",
    "        \n",
    "        if array[mid]<val:\n",
    "            #look to the right\n",
    "            left = mid +1\n",
    "        elif array[mid]>val:\n",
    "            right = mid -1\n",
    "        \n",
    "        #modify this so it only returns when it's the furthest left point\n",
    "        elif array[mid] == val and array[mid-1] != val:\n",
    "            return mid\n",
    "        \n",
    "        #this will deal with the case where there are duplicates, \n",
    "        # and it will return the index of the furthest left duplicate\n",
    "        elif array[mid] == val:\n",
    "            \n",
    "            while array[mid-1] == val:\n",
    "                mid-=1\n",
    "            return mid\n",
    "            \n",
    "        else:\n",
    "            print(\"i don't think it should enter here\")\n",
    "    \n",
    "    return -1"
   ]
  },
  {
   "cell_type": "code",
   "execution_count": 63,
   "metadata": {},
   "outputs": [
    {
     "name": "stdout",
     "output_type": "stream",
     "text": [
      "True\n",
      "True\n",
      "True\n",
      "True\n",
      "True\n",
      "True\n",
      "True\n",
      "True\n",
      "True\n"
     ]
    }
   ],
   "source": [
    "for case in test_case_ALL:\n",
    "    print(FULL_binary_search(case[\"test\"][\"array\"], case[\"test\"][\"value\"]) == case[\"result\"])"
   ]
  },
  {
   "cell_type": "code",
   "execution_count": null,
   "metadata": {},
   "outputs": [],
   "source": []
  }
 ],
 "metadata": {
  "kernelspec": {
   "display_name": "Python 3",
   "language": "python",
   "name": "python3"
  },
  "language_info": {
   "codemirror_mode": {
    "name": "ipython",
    "version": 3
   },
   "file_extension": ".py",
   "mimetype": "text/x-python",
   "name": "python",
   "nbconvert_exporter": "python",
   "pygments_lexer": "ipython3",
   "version": "3.8.5"
  }
 },
 "nbformat": 4,
 "nbformat_minor": 4
}
