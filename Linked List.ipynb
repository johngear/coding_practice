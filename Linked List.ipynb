{
 "cells": [
  {
   "cell_type": "code",
   "execution_count": 5,
   "metadata": {},
   "outputs": [],
   "source": [
    "class Node:\n",
    "    def __init__(self, data, nextt=None):\n",
    "        self.data = data\n",
    "        self.next = nextt"
   ]
  },
  {
   "cell_type": "code",
   "execution_count": 14,
   "metadata": {},
   "outputs": [
    {
     "name": "stdout",
     "output_type": "stream",
     "text": [
      "<__main__.Node object at 0x7fc908755f10>\n"
     ]
    }
   ],
   "source": [
    "# print(Node(10).data)\n",
    "print(Node(10, Node(9, Node(8))))\n"
   ]
  },
  {
   "cell_type": "code",
   "execution_count": null,
   "metadata": {},
   "outputs": [],
   "source": []
  },
  {
   "cell_type": "code",
   "execution_count": 24,
   "metadata": {},
   "outputs": [],
   "source": [
    "class List:\n",
    "    \n",
    "    def __init__(self):\n",
    "        #start the list with no information\n",
    "        self.head = None\n",
    "    \n",
    "    def print_list(self):\n",
    "        \n",
    "        while self.head != None:\n",
    "            print(self.data)\n",
    "        print(self.head)\n",
    "        \n",
    "    #add a number to the linked list    \n",
    "    def push(self,data):\n",
    "        self.next = self.head\n",
    "        self.head = Node(data, self.next)\n",
    "        "
   ]
  },
  {
   "cell_type": "code",
   "execution_count": 26,
   "metadata": {},
   "outputs": [
    {
     "name": "stdout",
     "output_type": "stream",
     "text": [
      "<__main__.Node object at 0x7fc908799a90>\n"
     ]
    }
   ],
   "source": [
    "llist = List()\n",
    "llist.push(10)\n",
    "llist.push(9)\n",
    "llist.push(8)\n"
   ]
  },
  {
   "cell_type": "code",
   "execution_count": null,
   "metadata": {},
   "outputs": [],
   "source": []
  }
 ],
 "metadata": {
  "kernelspec": {
   "display_name": "Python 3",
   "language": "python",
   "name": "python3"
  },
  "language_info": {
   "codemirror_mode": {
    "name": "ipython",
    "version": 3
   },
   "file_extension": ".py",
   "mimetype": "text/x-python",
   "name": "python",
   "nbconvert_exporter": "python",
   "pygments_lexer": "ipython3",
   "version": "3.8.5"
  }
 },
 "nbformat": 4,
 "nbformat_minor": 4
}
