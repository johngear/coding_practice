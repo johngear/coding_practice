{
 "cells": [
  {
   "cell_type": "code",
   "execution_count": 23,
   "metadata": {},
   "outputs": [
    {
     "name": "stdout",
     "output_type": "stream",
     "text": [
      "    claim_id        make   model    year                 poi  line_num  \\\n",
      "0      40468     Citroen   Jumpy  2010.0          Rear Right         2   \n",
      "1      71138     Peugeot  Expert  2007.0           Rear Left         2   \n",
      "2      16836     Peugeot     208  2016.0                 NaN         5   \n",
      "3      20808     Renault  Megane  2003.0                 NaN         1   \n",
      "4      18654        Audi      A5  2012.0  Roof/Undercarriage         2   \n",
      "5      13484  Volkswagen    Golf  2004.0                 NaN         8   \n",
      "6      98016  Volkswagen    Golf  2001.0         Rear Centre         4   \n",
      "7       6058        Seat    Leon  2006.0         Right Front         1   \n",
      "8      64528     Peugeot     206  2009.0        Right Centre         3   \n",
      "9      97983        Ford      Ka  2010.0          Front Left         3   \n",
      "10     66353        Audi      A6  2000.0          Rear Right         1   \n",
      "11     73630        Opel   Astra  2004.0         Front Right         2   \n",
      "12     13629        Audi      A4  2008.0                 NaN         3   \n",
      "13       494        Audi      A6  2009.0         Right Front         2   \n",
      "14     82858     Renault  Laguna  2009.0         Rear Centre         1   \n",
      "15     60810        Ford  Fiesta  2006.0         Rear Centre         1   \n",
      "16      7824        Ford  Fiesta  2011.0         Front Right         6   \n",
      "17     64855        Seat   Ibiza  2008.0        Front Centre         1   \n",
      "18     77563        Ford   Focus  2006.0        Front Centre         1   \n",
      "19     32571  Volkswagen    Polo  2003.0         Left Centre         2   \n",
      "\n",
      "       part operation  part_price  labour_amt  \n",
      "0    brwing    repair         NaN  160.000002  \n",
      "1    blwing    repair         NaN  189.999998  \n",
      "2    flwing   replace   96.400002   60.000002  \n",
      "3   bbumper    repair         NaN   60.000002  \n",
      "4    frwing    repair         NaN  105.000001  \n",
      "5    blwing    repair         NaN   69.999999  \n",
      "6    flwing    repair         NaN   80.000001  \n",
      "7   bbumper    repair         NaN  145.000000  \n",
      "8    frdoor    repair         NaN   75.000000  \n",
      "9    flwing   replace   89.519997  100.000003  \n",
      "10  bbumper    repair         NaN   95.000002  \n",
      "11   frwing    repair         NaN  130.000001  \n",
      "12   brdoor    repair         NaN   69.999999  \n",
      "13   frdoor    repair         NaN  155.000001  \n",
      "14  bbumper   replace  297.600006  100.000003  \n",
      "15  bbumper   replace  253.889999   65.000001  \n",
      "16   brwing    repair         NaN  180.000001  \n",
      "17  fbumper   replace  201.830002   65.000002  \n",
      "18  fbumper    repair         NaN  175.000003  \n",
      "19   fldoor    repair         NaN  320.000002  \n"
     ]
    }
   ],
   "source": [
    "import pandas as pd\n",
    "\n",
    "path = f\"/Users/johngearig/Desktop/INTERVIEW PREP/tractable_ds_excercise_data/metadata/part-00000.csv.gz\"\n",
    "\n",
    "#taken from stack overflow article on how to preview a .gz file\n",
    "data = pd.read_csv(path, nrows=20, compression='gzip', error_bad_lines=True)\n",
    "print(data)"
   ]
  },
  {
   "cell_type": "code",
   "execution_count": 20,
   "metadata": {},
   "outputs": [
    {
     "data": {
      "text/plain": [
       "40468"
      ]
     },
     "execution_count": 20,
     "metadata": {},
     "output_type": "execute_result"
    }
   ],
   "source": [
    "data['claim_id']"
   ]
  },
  {
   "cell_type": "code",
   "execution_count": 21,
   "metadata": {},
   "outputs": [
    {
     "data": {
      "text/plain": [
       "['Citroen']"
      ]
     },
     "execution_count": 21,
     "metadata": {},
     "output_type": "execute_result"
    }
   ],
   "source": [
    "[x for x in data['make'] if x == 'Citroen']"
   ]
  },
  {
   "cell_type": "code",
   "execution_count": null,
   "metadata": {},
   "outputs": [],
   "source": [
    "data"
   ]
  }
 ],
 "metadata": {
  "kernelspec": {
   "display_name": "Python 3",
   "language": "python",
   "name": "python3"
  },
  "language_info": {
   "codemirror_mode": {
    "name": "ipython",
    "version": 3
   },
   "file_extension": ".py",
   "mimetype": "text/x-python",
   "name": "python",
   "nbconvert_exporter": "python",
   "pygments_lexer": "ipython3",
   "version": "3.8.5"
  }
 },
 "nbformat": 4,
 "nbformat_minor": 4
}
