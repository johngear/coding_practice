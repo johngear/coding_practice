{
 "cells": [
  {
   "cell_type": "code",
   "execution_count": 20,
   "metadata": {},
   "outputs": [
    {
     "name": "stdout",
     "output_type": "stream",
     "text": [
      "cool i guess\n"
     ]
    }
   ],
   "source": [
    "import this\n",
    "print(\"cool i guess\")"
   ]
  },
  {
   "cell_type": "code",
   "execution_count": 21,
   "metadata": {},
   "outputs": [
    {
     "data": {
      "text/plain": [
       "120"
      ]
     },
     "execution_count": 21,
     "metadata": {},
     "output_type": "execute_result"
    }
   ],
   "source": [
    "x = lambda w, y, z,  : w*y + z + 10\n",
    "\n",
    "x(10,10,10)"
   ]
  },
  {
   "cell_type": "code",
   "execution_count": 3,
   "metadata": {},
   "outputs": [
    {
     "data": {
      "text/plain": [
       "1"
      ]
     },
     "execution_count": 3,
     "metadata": {},
     "output_type": "execute_result"
    }
   ],
   "source": [
    "x2 = range(100)\n",
    "x2[1]"
   ]
  },
  {
   "cell_type": "code",
   "execution_count": 24,
   "metadata": {},
   "outputs": [
    {
     "name": "stdout",
     "output_type": "stream",
     "text": [
      "[529, 2809, 1681, 49, 2601, 0, 1156, 2704, 3969, 8836, 6400, 3364, 196, 9, 4096, 5476, 4761, 8649, 1089, 2500, 6561, 289, 6724, 576, 5776, 3721, 7744, 144, 121, 784, 3249, 4, 3025, 729, 441, 7921, 1369, 1521, 2209, 9801, 3481, 324, 4356, 7225, 100, 2304, 676, 625, 1024, 8100, 4489, 6889, 6241, 3844, 36, 4624, 5329, 961, 64, 6084, 1849, 2916, 5184, 900, 3136, 8281, 25, 81, 256, 2401, 7396, 169, 7056, 9604, 1296, 361, 9409, 9216, 1225, 484, 1936, 2116, 1444, 16, 7569, 1600, 4900, 9025, 5929, 400, 3600, 225, 4225, 1, 1764, 2025, 5041, 8464, 5625, 841]\n"
     ]
    }
   ],
   "source": [
    "import random\n",
    "random.shuffle(x2)\n",
    "print(x2)"
   ]
  },
  {
   "cell_type": "code",
   "execution_count": 30,
   "metadata": {},
   "outputs": [
    {
     "name": "stdout",
     "output_type": "stream",
     "text": [
      "hello test idk what is happening\n"
     ]
    }
   ],
   "source": [
    "_ = \"test idk\"\n",
    "print(f'hello {_} what is happening')"
   ]
  },
  {
   "cell_type": "code",
   "execution_count": 6,
   "metadata": {},
   "outputs": [
    {
     "name": "stdout",
     "output_type": "stream",
     "text": [
      "WHAT ISS GOING\n"
     ]
    }
   ],
   "source": [
    "what = \"WHAT \"\n",
    "iss = \"ISS \"\n",
    "going = \"GOING\"\n",
    "print(f\"{what}{iss}{going}\")"
   ]
  },
  {
   "cell_type": "code",
   "execution_count": null,
   "metadata": {},
   "outputs": [],
   "source": []
  }
 ],
 "metadata": {
  "kernelspec": {
   "display_name": "Python 3",
   "language": "python",
   "name": "python3"
  },
  "language_info": {
   "codemirror_mode": {
    "name": "ipython",
    "version": 3
   },
   "file_extension": ".py",
   "mimetype": "text/x-python",
   "name": "python",
   "nbconvert_exporter": "python",
   "pygments_lexer": "ipython3",
   "version": "3.8.5"
  }
 },
 "nbformat": 4,
 "nbformat_minor": 4
}
