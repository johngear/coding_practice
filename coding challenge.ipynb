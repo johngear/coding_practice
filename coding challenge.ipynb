{
 "cells": [
  {
   "cell_type": "code",
   "execution_count": 11,
   "metadata": {},
   "outputs": [
    {
     "name": "stdout",
     "output_type": "stream",
     "text": [
      "s 0\n",
      "True\n",
      "t 1\n",
      "False\n",
      "r 2\n",
      "False\n",
      "i 3\n",
      "False\n",
      "n 4\n",
      "False\n",
      "g 5\n",
      "False\n"
     ]
    }
   ],
   "source": [
    "A = \"string\"\n",
    "B = \"SrING\"\n",
    "for iter, letter in enumerate(A):\n",
    "    print(letter, iter)\n",
    "    print(letter == 's')"
   ]
  },
  {
   "cell_type": "code",
   "execution_count": 8,
   "metadata": {},
   "outputs": [
    {
     "ename": "NameError",
     "evalue": "name 'asint' is not defined",
     "output_type": "error",
     "traceback": [
      "\u001b[0;31m------------------------------------------------------------\u001b[0m",
      "\u001b[0;31mNameError\u001b[0m                  Traceback (most recent call last)",
      "\u001b[0;32m<ipython-input-8-1d378eb41054>\u001b[0m in \u001b[0;36m<module>\u001b[0;34m\u001b[0m\n\u001b[0;32m----> 1\u001b[0;31m \u001b[0masint\u001b[0m\u001b[0;34m(\u001b[0m\u001b[0mA\u001b[0m\u001b[0;34m)\u001b[0m \u001b[0;34m-\u001b[0m \u001b[0masint\u001b[0m\u001b[0;34m(\u001b[0m\u001b[0mB\u001b[0m\u001b[0;34m)\u001b[0m\u001b[0;34m\u001b[0m\u001b[0;34m\u001b[0m\u001b[0m\n\u001b[0m",
      "\u001b[0;31mNameError\u001b[0m: name 'asint' is not defined"
     ]
    }
   ],
   "source": [
    "asint(A) - asint(B)"
   ]
  },
  {
   "cell_type": "code",
   "execution_count": 33,
   "metadata": {},
   "outputs": [
    {
     "name": "stdout",
     "output_type": "stream",
     "text": [
      "4\n",
      "6\n",
      "total 2\n"
     ]
    }
   ],
   "source": [
    "A = \"dBacaAA\"\n",
    "B = \"caBdaaA\"\n",
    "total = 0\n",
    "for iter, (a,b) in enumerate(zip(A,B)):\n",
    "\n",
    "    #this is to see if there is a direct coorespondance from one string to another\n",
    "    if a==b:\n",
    "        print(iter)\n",
    "        total +=1 \n",
    "        \n",
    "print(\"total\", total)"
   ]
  },
  {
   "cell_type": "code",
   "execution_count": 21,
   "metadata": {},
   "outputs": [
    {
     "name": "stdout",
     "output_type": "stream",
     "text": [
      "ENOVWZaazz\n"
     ]
    }
   ],
   "source": [
    "a = 'aZENOVWazz'\n",
    "\n",
    "A = ''.join(sorted(a))\n",
    "print(A)"
   ]
  },
  {
   "cell_type": "code",
   "execution_count": 22,
   "metadata": {},
   "outputs": [
    {
     "name": "stdout",
     "output_type": "stream",
     "text": [
      "EN\n"
     ]
    }
   ],
   "source": [
    "print(a[2:4])"
   ]
  },
  {
   "cell_type": "code",
   "execution_count": 36,
   "metadata": {},
   "outputs": [
    {
     "name": "stdout",
     "output_type": "stream",
     "text": [
      "Bacd Bacd\n",
      "0 4\n",
      "Baacd Baacd\n",
      "0 5\n",
      "Ba Ba\n",
      "1 3\n",
      "total: 3\n"
     ]
    }
   ],
   "source": [
    "A = \"dBacaAA\"\n",
    "B = \"caBdaaA\"\n",
    "total=0\n",
    "\n",
    "for i in range(len(A)):\n",
    "    for j in range(len(A)):\n",
    "        if i+1<j:\n",
    "            compareA = ''.join(sorted(A[i:j]))\n",
    "            compareB = ''.join(sorted(B[i:j]))\n",
    "\n",
    "            if compareA == compareB:\n",
    "                print(compareA, compareB)\n",
    "                print(i, j)\n",
    "                total+=1\n",
    "            \n",
    "print(f\"total: {total}\")"
   ]
  },
  {
   "cell_type": "code",
   "execution_count": 40,
   "metadata": {},
   "outputs": [
    {
     "name": "stdout",
     "output_type": "stream",
     "text": [
      "z z\n",
      "z z\n",
      "z z\n",
      "X X\n",
      "zz zz\n",
      "0 2\n",
      "zzz zzz\n",
      "0 3\n",
      "Xzzz Xzzz\n",
      "0 4\n",
      "zz zz\n",
      "1 3\n",
      "Xzz Xzz\n",
      "1 4\n",
      "Xz Xz\n",
      "2 4\n",
      "10\n"
     ]
    }
   ],
   "source": [
    "A, B = 'zzzX', 'zzzX'\n",
    "total=0\n",
    "#ok this just checks letter to letter coorespondance\n",
    "for iter, (a,b) in enumerate(zip(A,B)):\n",
    "    #this is to see if there is a direct coorespondance from one string to another\n",
    "    if a==b:\n",
    "        print(a,b)\n",
    "        total +=1 \n",
    "\n",
    "#this will check for all of the others\n",
    "for i in range(len(A)):\n",
    "    for j in range(len(A)+1):\n",
    "        if i+1<j:\n",
    "            compareA = ''.join(sorted(A[i:j]))\n",
    "            compareB = ''.join(sorted(B[i:j]))\n",
    "\n",
    "            if compareA == compareB:\n",
    "                \n",
    "                print(compareA, compareB)\n",
    "                print(i, j)\n",
    "                total+=1\n",
    "                \n",
    "print(total)"
   ]
  },
  {
   "cell_type": "code",
   "execution_count": 50,
   "metadata": {},
   "outputs": [],
   "source": [
    "V = [-3,5,7,2,3]\n",
    "A = [3,1]\n",
    "B = [2,4]"
   ]
  },
  {
   "cell_type": "code",
   "execution_count": 44,
   "metadata": {},
   "outputs": [
    {
     "data": {
      "text/plain": [
       "[-3, 5, 7, 3]"
      ]
     },
     "execution_count": 44,
     "metadata": {},
     "output_type": "execute_result"
    }
   ],
   "source": [
    "VwithoutB = [x for x in V if x not in B]\n",
    "VwithoutB\n",
    "\n",
    "#should be [-3,5,2]"
   ]
  },
  {
   "cell_type": "code",
   "execution_count": 60,
   "metadata": {},
   "outputs": [
    {
     "name": "stdout",
     "output_type": "stream",
     "text": [
      "[-3, 5, -999999999, 2, -999999999]\n"
     ]
    }
   ],
   "source": [
    "max_neg = -999999999\n",
    "for b in B:\n",
    "    V[b] = max_neg\n",
    "print(V)"
   ]
  },
  {
   "cell_type": "code",
   "execution_count": 61,
   "metadata": {},
   "outputs": [
    {
     "name": "stdout",
     "output_type": "stream",
     "text": [
      "7\n"
     ]
    }
   ],
   "source": [
    "sort = sorted(V, reverse=True)\n",
    "highest_val = sort[0] + sort[1]\n",
    "print(highest_val)"
   ]
  },
  {
   "cell_type": "code",
   "execution_count": 63,
   "metadata": {},
   "outputs": [
    {
     "name": "stdout",
     "output_type": "stream",
     "text": [
      "9\n"
     ]
    }
   ],
   "source": [
    "V = [-3,5,7,2,3]\n",
    "A = [3,1]\n",
    "B = [2,4]\n",
    "\n",
    "max_val = max_neg\n",
    "\n",
    "for a,b in zip(A,B):\n",
    "    value = V[a] + V[b]\n",
    "    if value>max_val:\n",
    "        max_val = value\n",
    "#     print(value)\n",
    "print(max_val)"
   ]
  },
  {
   "cell_type": "code",
   "execution_count": 71,
   "metadata": {},
   "outputs": [
    {
     "name": "stdout",
     "output_type": "stream",
     "text": [
      "9\n"
     ]
    }
   ],
   "source": [
    "V = [-3,5,7,2,3]\n",
    "A = [3,1]\n",
    "B = [2,4]\n",
    "\n",
    "\n",
    "Vnew = list(V)\n",
    "max_neg_number = -1000000000 #from spec\n",
    "highest_val = max_neg_number\n",
    "\n",
    "#these projects can be done in isolation, so find the max \n",
    "for b in B:\n",
    "    Vnew[b] = max_neg_number\n",
    "sort = sorted(Vnew, reverse=True)\n",
    "\n",
    "#need to make sure that these sorted values exist\n",
    "if len(sort)>1:\n",
    "    highest_val = sort[0] + sort[1]\n",
    "\n",
    "#now check the subsequent projects\n",
    "# max_val = highest\n",
    "for a,b in zip(A,B):\n",
    "    if a not in B:\n",
    "        value = V[a] + V[b]\n",
    "        if value>highest_val:\n",
    "            highest_val= value\n",
    "            \n",
    "print(highest_val)\n"
   ]
  },
  {
   "cell_type": "code",
   "execution_count": 82,
   "metadata": {},
   "outputs": [
    {
     "name": "stdout",
     "output_type": "stream",
     "text": [
      "False\n"
     ]
    }
   ],
   "source": [
    "a = 1\n",
    "B = [0,1,2,3]\n",
    "\n",
    "print(a not in B)"
   ]
  },
  {
   "cell_type": "code",
   "execution_count": 76,
   "metadata": {},
   "outputs": [
    {
     "name": "stdout",
     "output_type": "stream",
     "text": [
      "True\n"
     ]
    }
   ],
   "source": [
    "print(len(B) == len(set(B)))"
   ]
  },
  {
   "cell_type": "code",
   "execution_count": 84,
   "metadata": {},
   "outputs": [
    {
     "name": "stdout",
     "output_type": "stream",
     "text": [
      "True\n"
     ]
    }
   ],
   "source": [
    "a = 2\n",
    "print(a in B)"
   ]
  },
  {
   "cell_type": "code",
   "execution_count": 89,
   "metadata": {},
   "outputs": [
    {
     "name": "stdout",
     "output_type": "stream",
     "text": [
      "False\n"
     ]
    }
   ],
   "source": [
    "B = [2,3,2,4,5,4]\n",
    "b = 4\n",
    "\n",
    "#not elegegent but quick way to see if there is a duplicate \n",
    "b_is_not_duplicate = True \n",
    "counter = -1\n",
    "for val_b in B:\n",
    "    if val_b == b:\n",
    "        counter +=1 \n",
    "if counter >0:\n",
    "    b_is_not_duplicate = False\n",
    "    \n",
    "    \n",
    "print(b_is_not_duplicate)"
   ]
  },
  {
   "cell_type": "code",
   "execution_count": null,
   "metadata": {},
   "outputs": [],
   "source": []
  }
 ],
 "metadata": {
  "kernelspec": {
   "display_name": "Python 3",
   "language": "python",
   "name": "python3"
  },
  "language_info": {
   "codemirror_mode": {
    "name": "ipython",
    "version": 3
   },
   "file_extension": ".py",
   "mimetype": "text/x-python",
   "name": "python",
   "nbconvert_exporter": "python",
   "pygments_lexer": "ipython3",
   "version": "3.8.5"
  }
 },
 "nbformat": 4,
 "nbformat_minor": 4
}
