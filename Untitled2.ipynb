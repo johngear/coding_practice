{
 "cells": [
  {
   "cell_type": "code",
   "execution_count": 1,
   "metadata": {},
   "outputs": [
    {
     "data": {
      "text/plain": [
       "3×3 LinearAlgebra.Transpose{Int64,Array{Int64,2}}:\n",
       " 1  2  3\n",
       " 2  5  7\n",
       " 3  7  9"
      ]
     },
     "execution_count": 1,
     "metadata": {},
     "output_type": "execute_result"
    }
   ],
   "source": [
    "A = [1 2 3; 2 5 7; 3 7 11]\n",
    "transpose(A)"
   ]
  },
  {
   "cell_type": "code",
   "execution_count": 29,
   "metadata": {},
   "outputs": [
    {
     "name": "stdout",
     "output_type": "stream",
     "text": [
      "[1 2 3; 2 5 7; 3 7 11]false"
     ]
    }
   ],
   "source": [
    "\n",
    "a = 3\n",
    "b = 1\n",
    "L = [1 0 0; 2 1 0; a b 1]\n",
    "# print(transpose(L))\n",
    "\n",
    "out = L * transpose(L)\n",
    "print(out)\n",
    "print(out == A)"
   ]
  },
  {
   "cell_type": "code",
   "execution_count": null,
   "metadata": {},
   "outputs": [],
   "source": []
  }
 ],
 "metadata": {
  "kernelspec": {
   "display_name": "Julia 1.5.3",
   "language": "julia",
   "name": "julia-1.5"
  },
  "language_info": {
   "file_extension": ".jl",
   "mimetype": "application/julia",
   "name": "julia",
   "version": "1.5.3"
  }
 },
 "nbformat": 4,
 "nbformat_minor": 4
}
