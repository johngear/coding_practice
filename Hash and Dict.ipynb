{
 "cells": [
  {
   "cell_type": "code",
   "execution_count": 11,
   "metadata": {},
   "outputs": [],
   "source": [
    "#recall simple syntax \n",
    "test = {\n",
    "    'john' : '0',\n",
    "    'alex' : '2',\n",
    "    'ryan' : '3'\n",
    "}"
   ]
  },
  {
   "cell_type": "code",
   "execution_count": 12,
   "metadata": {},
   "outputs": [],
   "source": [
    "test['jack'] = '4'\n",
    "test['john'] = '1'"
   ]
  },
  {
   "cell_type": "code",
   "execution_count": 92,
   "metadata": {},
   "outputs": [
    {
     "name": "stdout",
     "output_type": "stream",
     "text": [
      "name: john , number: 1\n",
      "name: alex , number: 2\n",
      "name: ryan , number: 3\n",
      "name: jack , number: 4\n"
     ]
    }
   ],
   "source": [
    "for name in test:\n",
    "    print(\"name:\", name, \", number:\", test[name])"
   ]
  },
  {
   "cell_type": "code",
   "execution_count": 93,
   "metadata": {},
   "outputs": [
    {
     "name": "stdout",
     "output_type": "stream",
     "text": [
      "[1, 4, 9, 16, 25, 36, 49, 64, 81]\n",
      "[729]\n",
      "[0.5, 1.0, 1.5, 2.0, 2.5, 3.0, 3.5, 4.0, 4.5]\n"
     ]
    }
   ],
   "source": [
    "#I had forgotton about this syntax... wow its nice!\n",
    "list1 = [1,2,3,4,5,6,7,8,9]\n",
    "list2 = [x**2 for x in list1]\n",
    "print(list2)\n",
    "list2 = [x**3 for x in list1 if x==9]\n",
    "print(list2)\n",
    "list2 = [x/2 for x in list1 if x!=None]\n",
    "print(list2)"
   ]
  },
  {
   "cell_type": "code",
   "execution_count": 94,
   "metadata": {},
   "outputs": [],
   "source": [
    "MAX_HASH_TABLE_SIZE = 4096\n",
    "data_list = [None] * MAX_HASH_TABLE_SIZE          #THIS IS USEFUL SYNTAX\n",
    "\n",
    "#print(len(data_list))"
   ]
  },
  {
   "cell_type": "code",
   "execution_count": 26,
   "metadata": {},
   "outputs": [],
   "source": [
    "#YOU COULD SUB IN ANY COMPLEX HASHING ALGO HERE... you def should because this method will hit error on any anagram but it's just a simple example\n",
    "def get_index(data_list, a_string):\n",
    "    # Variable to store the result (updated after each iteration)\n",
    "    result = 0\n",
    "    \n",
    "    for a_character in a_string:\n",
    "        \n",
    "        a_number = ord(a_character)\n",
    "        result += a_number\n",
    "    \n",
    "    list_index = result % len(data_list) #MAX_HASH_TABLE_SIZE #maybe this should be the data_list length but whatever\n",
    "    return list_index"
   ]
  },
  {
   "cell_type": "code",
   "execution_count": 32,
   "metadata": {},
   "outputs": [
    {
     "name": "stdout",
     "output_type": "stream",
     "text": [
      "index john:  431\n",
      "index alex:  426\n",
      "index ryan:  442\n",
      "index jack:  409\n"
     ]
    }
   ],
   "source": [
    "assert get_index(data_list,'wxyz') == (ord('w') + ord('x')+ord('y')+ord('z'))\n",
    "print(\"index john: \", get_index(data_list, \"john\"))\n",
    "print(\"index alex: \", get_index(data_list, \"alex\"))\n",
    "print(\"index ryan: \", get_index(data_list, \"ryan\"))\n",
    "print(\"index jack: \", get_index(data_list, \"jack\"))"
   ]
  },
  {
   "cell_type": "code",
   "execution_count": 130,
   "metadata": {},
   "outputs": [],
   "source": [
    "class BasicHashTable:\n",
    "    def __init__(self, MAX_SIZE):\n",
    "        self.data_list = [None] * MAX_SIZE\n",
    "        print(\"initialized table of size: \", len(self.data_list))\n",
    "    \n",
    "    def add_element(self, key, value):\n",
    "        self.data_list[get_index(self.data_list, key)] = key, value\n",
    "        \n",
    "    def update(self, key, new_value):\n",
    "        idx = get_index(self.data_list, key)\n",
    "        self.data_list[idx] = key, new_value\n",
    "    \n",
    "    def find(self, key):\n",
    "        idx = get_index(self.data_list, key)\n",
    "        print(\"index in hash table: \", idx)\n",
    "        print(\"value associated:    \", self.data_list[idx][1])\n",
    "        return self.data_list[idx][1]\n",
    "    \n",
    "    def list(self):\n",
    "        new_list = [x for x in self.data_list if x != None]\n",
    "        return new_list\n",
    "        "
   ]
  },
  {
   "cell_type": "code",
   "execution_count": 131,
   "metadata": {},
   "outputs": [
    {
     "name": "stdout",
     "output_type": "stream",
     "text": [
      "initialized table of size:  16\n",
      "[None, None, None, None, None, None, None, None, None, ('jack', '4'), ('ryan', '3'), None, None, None, None, ('john', '1')]\n"
     ]
    }
   ],
   "source": [
    "table = BasicHashTable(16)\n",
    "table.add_element('john','1')\n",
    "table.add_element('alex','2')\n",
    "table.add_element('ryan','3')\n",
    "table.add_element('jack','4')\n",
    "\n",
    "print(table.data_list)"
   ]
  },
  {
   "cell_type": "code",
   "execution_count": 132,
   "metadata": {},
   "outputs": [
    {
     "name": "stdout",
     "output_type": "stream",
     "text": [
      "index in hash table:  15\n",
      "value associated:     1\n"
     ]
    },
    {
     "data": {
      "text/plain": [
       "'1'"
      ]
     },
     "execution_count": 132,
     "metadata": {},
     "output_type": "execute_result"
    }
   ],
   "source": [
    "table.find('john')"
   ]
  },
  {
   "cell_type": "code",
   "execution_count": 133,
   "metadata": {},
   "outputs": [
    {
     "data": {
      "text/plain": [
       "[('jack', '4'), ('ryan', '3'), ('john', 0)]"
      ]
     },
     "execution_count": 133,
     "metadata": {},
     "output_type": "execute_result"
    }
   ],
   "source": [
    "table.update('john', 0)\n",
    "table.list()"
   ]
  },
  {
   "cell_type": "code",
   "execution_count": 129,
   "metadata": {},
   "outputs": [
    {
     "name": "stdout",
     "output_type": "stream",
     "text": [
      "[('jack', '4'), ('ryan', '3'), ('john', '1')]\n"
     ]
    }
   ],
   "source": [
    "out = table.list()\n",
    "print(out)"
   ]
  },
  {
   "cell_type": "code",
   "execution_count": null,
   "metadata": {},
   "outputs": [],
   "source": []
  },
  {
   "cell_type": "code",
   "execution_count": 134,
   "metadata": {},
   "outputs": [],
   "source": [
    "#ok now this will have to handle collisions lmao\n",
    "class FullHashTable:\n",
    "    def __init__(self, MAX_SIZE):\n",
    "        self.data_list = [None] * MAX_SIZE\n",
    "        print(\"initialized table of size: \", len(self.data_list))\n",
    "    \n",
    "    def add_element(self, key, value):\n",
    "        \n",
    "        idx = get_index(self.data_list, key)\n",
    "        array_elements = self.data_list[idx]\n",
    "        \n",
    "        #could make a funciton here that evaluates which index to go to given a key because all the functions after this may need it\n",
    "        \n",
    "        #If there is nothing already occupying the Key\n",
    "        if array_elements == None: \n",
    "            self.data_list[idx] = key, value\n",
    "        else:\n",
    "            #if there is something occupying the key, keep moving 1 up in the table and if it is none, then add it there\n",
    "            while True:\n",
    "                idx +=1\n",
    "                array_elements = self.data_list[idx]\n",
    "                if array_elements == None:\n",
    "                    self.data_list[idx] = key, value\n",
    "                    break\n",
    "                \n",
    "                \n",
    "    def update(self, key, new_value):\n",
    "        idx = get_index(self.data_list, key)\n",
    "        self.data_list[idx] = key, new_value\n",
    "    \n",
    "    def find(self, key):\n",
    "        idx = get_index(self.data_list, key)\n",
    "        print(\"index in hash table: \", idx)\n",
    "        print(\"value associated:    \", self.data_list[idx][1])\n",
    "        return self.data_list[idx][1]\n",
    "    \n",
    "    def list(self):\n",
    "        new_list = [x for x in self.data_list if x != None]\n",
    "        return new_list"
   ]
  },
  {
   "cell_type": "code",
   "execution_count": 137,
   "metadata": {},
   "outputs": [
    {
     "name": "stdout",
     "output_type": "stream",
     "text": [
      "initialized table of size:  16\n"
     ]
    },
    {
     "data": {
      "text/plain": [
       "[('jack', '4'), ('alex', '2'), ('ryan', '3'), ('john', '1')]"
      ]
     },
     "execution_count": 137,
     "metadata": {},
     "output_type": "execute_result"
    }
   ],
   "source": [
    "fulltable = FullHashTable(16)\n",
    "fulltable.add_element('john','1')\n",
    "fulltable.add_element('alex','2')\n",
    "fulltable.add_element('ryan','3')\n",
    "fulltable.add_element('jack','4')\n",
    "fulltable.list()"
   ]
  },
  {
   "cell_type": "code",
   "execution_count": null,
   "metadata": {},
   "outputs": [],
   "source": []
  }
 ],
 "metadata": {
  "kernelspec": {
   "display_name": "Python 3",
   "language": "python",
   "name": "python3"
  },
  "language_info": {
   "codemirror_mode": {
    "name": "ipython",
    "version": 3
   },
   "file_extension": ".py",
   "mimetype": "text/x-python",
   "name": "python",
   "nbconvert_exporter": "python",
   "pygments_lexer": "ipython3",
   "version": "3.8.5"
  }
 },
 "nbformat": 4,
 "nbformat_minor": 4
}
